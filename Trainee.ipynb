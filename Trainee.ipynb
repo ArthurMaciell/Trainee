{
  "nbformat": 4,
  "nbformat_minor": 0,
  "metadata": {
    "colab": {
      "provenance": []
    },
    "kernelspec": {
      "name": "python3",
      "display_name": "Python 3"
    },
    "language_info": {
      "name": "python"
    }
  },
  "cells": [
    {
      "cell_type": "markdown",
      "source": [
        "Primeira etapa trainee"
      ],
      "metadata": {
        "id": "S4tEjOY-R0wa"
      }
    },
    {
      "cell_type": "code",
      "source": [
        "import pandas as pd\n",
        "import numpy as np\n",
        "import matplotlib.pyplot as plt\n",
        "import seaborn as sns\n",
        "import statistics as stat"
      ],
      "metadata": {
        "id": "dZhUWE_DR59r"
      },
      "execution_count": null,
      "outputs": []
    },
    {
      "cell_type": "code",
      "source": [
        "dt1 = pd.read_csv('Cars 1.csv')\n",
        "dt2 = pd.read_csv('cars.csv')\n",
        "dt3 = pd.read_csv('Electric Car.csv')\n",
        "dt4 = pd.read_csv('Electric Vehicle Population Data.csv')\n",
        "dt5 = pd.read_excel('FEV data.xlsx')"
      ],
      "metadata": {
        "id": "xri3nxa1R7ya"
      },
      "execution_count": null,
      "outputs": []
    },
    {
      "cell_type": "markdown",
      "source": [
        "Análise exploratória"
      ],
      "metadata": {
        "id": "BboCmm4HR9WX"
      }
    },
    {
      "cell_type": "code",
      "source": [
        "dt1.dtypes"
      ],
      "metadata": {
        "id": "aFh-gapKR_4I"
      },
      "execution_count": null,
      "outputs": []
    },
    {
      "cell_type": "code",
      "source": [
        "dt1.describe()"
      ],
      "metadata": {
        "id": "TJcOVYKFSB8W"
      },
      "execution_count": null,
      "outputs": []
    },
    {
      "cell_type": "code",
      "source": [
        "dt1['Dimensions.Height'].hist()"
      ],
      "metadata": {
        "id": "b5BKajvISE2_"
      },
      "execution_count": null,
      "outputs": []
    },
    {
      "cell_type": "code",
      "source": [
        "contagem_marca = dt1['Identification.Model Year'].value_counts()\n",
        "contagem_marca"
      ],
      "metadata": {
        "id": "oG_I6_eSSGcK"
      },
      "execution_count": null,
      "outputs": []
    },
    {
      "cell_type": "code",
      "source": [
        "dt1['Engine Information.Transmission'].value_counts().plot.pie()"
      ],
      "metadata": {
        "id": "vAJcUzk_SHpA"
      },
      "execution_count": null,
      "outputs": []
    },
    {
      "cell_type": "markdown",
      "source": [
        "Vamos verificar quantos carros de cada marca esse dataset tem."
      ],
      "metadata": {
        "id": "_HotPMvvSJV4"
      }
    },
    {
      "cell_type": "code",
      "source": [
        "agrupado_marcas = dt1.groupby(['Identification.Make']).size()\n",
        "\n",
        "agrupado_marcas = agrupado_marcas.sort_values(ascending=False)\n",
        "agrupado_marcas = agrupado_marcas.head(10)\n",
        "plt.figure(figsize=(12,9))\n",
        "plt.xlabel('Marcas')\n",
        "plt.ylabel('Número de carros')\n",
        "agrupado_marcas.plot.bar(color ='green')"
      ],
      "metadata": {
        "id": "sfoqIgakSLJW"
      },
      "execution_count": null,
      "outputs": []
    },
    {
      "cell_type": "markdown",
      "source": [
        "Vamos usar o seaborn para plotar um gráfico boxplot e um histograma com a a linha de dispersão para analisar a média do consumo de combustível na cidade. E se haverá outliers."
      ],
      "metadata": {
        "id": "idY8XA_USNfT"
      }
    },
    {
      "cell_type": "code",
      "source": [
        "sns.boxplot(dt1['Fuel Information.City mpg']).set_title('Gasto de combustível na cidade')"
      ],
      "metadata": {
        "id": "6-joYIGXSOpC"
      },
      "execution_count": null,
      "outputs": []
    },
    {
      "cell_type": "code",
      "source": [
        "sns.distplot(dt1['Fuel Information.City mpg']).set_title('Combustível cidade')"
      ],
      "metadata": {
        "id": "nypkHRp7SP_4"
      },
      "execution_count": null,
      "outputs": []
    },
    {
      "cell_type": "code",
      "source": [
        "sns.histplot(dt1['Fuel Information.City mpg']).set_title('Combustível cidade')"
      ],
      "metadata": {
        "id": "mAGBxhRNSRSP"
      },
      "execution_count": null,
      "outputs": []
    },
    {
      "cell_type": "code",
      "source": [
        "agrupado_finf = dt1.groupby(['Fuel Information.Fuel Type']).size()\n",
        "agrupado_finf\n",
        "plt.figure(figsize=(12,9))\n",
        "plt.xlabel('Tipo de gasolina')\n",
        "plt.ylabel('Número de carros')\n",
        "agrupado_finf.plot.bar(color ='green')"
      ],
      "metadata": {
        "id": "_o9sKhJOSSPx"
      },
      "execution_count": null,
      "outputs": []
    },
    {
      "cell_type": "code",
      "source": [
        "sns.boxplot(dt1['Engine Information.Engine Statistics.Horsepower']).set_title('Cavalos')"
      ],
      "metadata": {
        "id": "I1Ql8x49STRZ"
      },
      "execution_count": null,
      "outputs": []
    },
    {
      "cell_type": "code",
      "source": [
        "plt.hist(dt1['Engine Information.Engine Statistics.Horsepower'],bins=6)\n",
        "plt.xlabel('Cavalos do carro')\n",
        "plt.ylabel('Quantidade de carros')\n",
        "plt.title('Cavalos X Qnt. de carros')"
      ],
      "metadata": {
        "id": "JksL_ccxSUKr"
      },
      "execution_count": null,
      "outputs": []
    },
    {
      "cell_type": "code",
      "source": [
        "plt.hist(dt1['Dimensions.Height'],bins=6)\n",
        "plt.xlabel('Peso')\n",
        "plt.ylabel('Quantidade de carros')\n",
        "plt.title('Peso X Qnt. de carros')"
      ],
      "metadata": {
        "id": "UGTZ5tgjSU-i"
      },
      "execution_count": null,
      "outputs": []
    },
    {
      "cell_type": "code",
      "source": [
        "sns.histplot(dt1['Dimensions.Height'],kde=True,bins=6,color='blue').set(title=\"Peso\")"
      ],
      "metadata": {
        "id": "bnqP1Kh9SWUN"
      },
      "execution_count": null,
      "outputs": []
    },
    {
      "cell_type": "code",
      "source": [
        "#Histograma usando seaborn\n",
        "sns.histplot(dt1['Fuel Information.City mpg'],kde=False,bins=6,color='blue').set(title=\"Combustível\")"
      ],
      "metadata": {
        "id": "eFd5ondVSYpJ"
      },
      "execution_count": null,
      "outputs": []
    },
    {
      "cell_type": "code",
      "source": [
        "#Linha de densidade usando seaborn\n",
        "sns.kdeplot(dt1['Fuel Information.City mpg'],color='blue').set(title='Combustível')"
      ],
      "metadata": {
        "id": "KqblmVXcSZ28"
      },
      "execution_count": null,
      "outputs": []
    },
    {
      "cell_type": "code",
      "source": [
        "plt.scatter(x=dt1['Dimensions.Height'],y=dt1['Fuel Information.City mpg'],color= 'blue',facecolors = 'none',marker='*')\n",
        "plt.xlabel('Peso')\n",
        "plt.ylabel('Combustível na cidade')\n",
        "plt.title('Peso X Combustível')"
      ],
      "metadata": {
        "id": "ZdGB9GIjSa3J"
      },
      "execution_count": null,
      "outputs": []
    },
    {
      "cell_type": "code",
      "source": [
        "y = dt1['Fuel Information.City mpg']\n",
        "x = dt1['Engine Information.Engine Statistics.Horsepower']"
      ],
      "metadata": {
        "id": "TdTdf1yRScQ3"
      },
      "execution_count": null,
      "outputs": []
    },
    {
      "cell_type": "code",
      "source": [
        "sns.regplot(x=dt1['Dimensions.Height'],y=dt1['Fuel Information.City mpg'],data = dt1 ,x_jitter = 0.3)"
      ],
      "metadata": {
        "id": "tZa9U6zXSfT0"
      },
      "execution_count": null,
      "outputs": []
    },
    {
      "cell_type": "code",
      "source": [
        "unicos = list(set(dt1['Identification.Classification']))\n",
        "unicos"
      ],
      "metadata": {
        "id": "g0BpAct-SgPB"
      },
      "execution_count": null,
      "outputs": []
    },
    {
      "cell_type": "code",
      "source": [
        "for i in range(len(unicos)):\n",
        "    indice = dt1['Identification.Classification'] == unicos[i]\n",
        "    plt.scatter(x[indice],y[indice],label =unicos[i])\n",
        "plt.legend(loc = 'lower right')\n",
        "plt.xlabel('Cavalos')\n",
        "plt.ylabel('Consumo gasolina cidade')"
      ],
      "metadata": {
        "id": "yBWamHVhSh5H"
      },
      "execution_count": null,
      "outputs": []
    },
    {
      "cell_type": "code",
      "source": [
        "y2 = dt1['Engine Information.Engine Statistics.Torque']\n",
        "x2 = dt1['Engine Information.Engine Statistics.Horsepower']\n",
        "\n",
        "unicos2 = list(set(dt1['Identification.Classification']))\n",
        "unicos2\n",
        "\n",
        "for i in range(len(unicos2)):\n",
        "    indice2 = dt1['Identification.Classification'] == unicos2[i]\n",
        "    plt.scatter(x2[indice2],y2[indice2],label =unicos2[i])\n",
        "plt.legend(loc = 'lower right')\n",
        "plt.xlabel('Cavalos')\n",
        "plt.ylabel('Torque')"
      ],
      "metadata": {
        "id": "sraVmuDySi7n"
      },
      "execution_count": null,
      "outputs": []
    },
    {
      "cell_type": "code",
      "source": [
        "#vamos comparar algumas variaveis depois vamos botar os gráficos em um só\n",
        "plt.scatter(dt1['Engine Information.Engine Statistics.Torque'], dt1['Engine Information.Engine Statistics.Horsepower'])"
      ],
      "metadata": {
        "id": "R-yeYrzgSkTZ"
      },
      "execution_count": null,
      "outputs": []
    },
    {
      "cell_type": "code",
      "source": [
        "plt.scatter(dt1['Dimensions.Height'],dt1['Fuel Information.City mpg'])"
      ],
      "metadata": {
        "id": "9njzemPzSlrB"
      },
      "execution_count": null,
      "outputs": []
    },
    {
      "cell_type": "code",
      "source": [
        "plt.scatter(dt1['Dimensions.Height'],dt1['Engine Information.Engine Statistics.Horsepower'])"
      ],
      "metadata": {
        "id": "jtJ_-mWJSnHc"
      },
      "execution_count": null,
      "outputs": []
    },
    {
      "cell_type": "code",
      "source": [
        "plt.figure(i)\n",
        "plt.subplot(2,2,1)\n",
        "plt.scatter(dt1['Engine Information.Engine Statistics.Torque'], dt1['Engine Information.Engine Statistics.Horsepower'])\n",
        "plt.subplot(2,2,2)\n",
        "plt.scatter(dt1['Dimensions.Height'],dt1['Fuel Information.City mpg'])\n",
        "plt.subplot(2,2,3)\n",
        "plt.scatter(dt1['Dimensions.Height'],dt1['Engine Information.Engine Statistics.Horsepower'])\n",
        "plt.subplot(2,2,4)\n",
        "plt.hist(dt1['Identification.Classification'])"
      ],
      "metadata": {
        "id": "KK7bRFRASoVF"
      },
      "execution_count": null,
      "outputs": []
    },
    {
      "cell_type": "code",
      "source": [
        "plt.boxplot(dt1['Dimensions.Height'],vert=False,showfliers = False,notch = True,patch_artist=True)\n",
        "plt.title('Carros')\n",
        "plt.xlabel('Altura')"
      ],
      "metadata": {
        "id": "wnJKG1sDSpT0"
      },
      "execution_count": null,
      "outputs": []
    },
    {
      "cell_type": "code",
      "source": [
        "plt.boxplot(dt1['Dimensions.Height'],vert=False)\n",
        "plt.boxplot(dt1['Fuel Information.City mpg'],vert=False)"
      ],
      "metadata": {
        "id": "kFMywK-WSqgA"
      },
      "execution_count": null,
      "outputs": []
    },
    {
      "cell_type": "code",
      "source": [
        "agrupado_tramissao = dt1.groupby(['Engine Information.Transmission'])['Engine Information.Engine Statistics.Torque']\n",
        "agrupado_tramissao"
      ],
      "metadata": {
        "id": "dMd0MwqQSr1F"
      },
      "execution_count": null,
      "outputs": []
    },
    {
      "cell_type": "code",
      "source": [
        "agrupado_tramissao.plot.bar()\n",
        "plt.xticks(rotation=90)"
      ],
      "metadata": {
        "id": "WqqXBWGhStFj"
      },
      "execution_count": null,
      "outputs": []
    },
    {
      "cell_type": "code",
      "source": [
        "sns.boxplot(data = dt1['Dimensions.Height'],orient = 'h').set_title('Altura')"
      ],
      "metadata": {
        "id": "6dF2KJm1SufC"
      },
      "execution_count": null,
      "outputs": []
    },
    {
      "cell_type": "code",
      "source": [
        "agrupado_1 = dt1.groupby(['Engine Information.Transmission'])['Engine Information.Engine Statistics.Horsepower'].sum()\n",
        "agrupado_1"
      ],
      "metadata": {
        "id": "NUKYVPjnSvvn"
      },
      "execution_count": null,
      "outputs": []
    },
    {
      "cell_type": "code",
      "source": [
        "teste = dt1.loc[dt1['Engine Information.Transmission'] == '4 Speed Automatic']\n",
        "teste"
      ],
      "metadata": {
        "id": "gz6MSH7ASwr7"
      },
      "execution_count": null,
      "outputs": []
    },
    {
      "cell_type": "code",
      "source": [
        "plt.scatter(dt3['TopSpeed_KmH'], dt3['PriceEuro'])\n",
        "plt.xlabel('Velocidade Máxima')\n",
        "plt.ylabel('Preço em Euros')\n",
        "plt.title('Velocidade máx. X Preço em Euro')"
      ],
      "metadata": {
        "id": "HTcox8CCSx1T"
      },
      "execution_count": null,
      "outputs": []
    },
    {
      "cell_type": "code",
      "source": [
        "plt.scatter(dt3['PriceEuro'], dt3['TopSpeed_KmH'])\n",
        "plt.ylabel('Velocidade Máxima')\n",
        "plt.xlabel('Preço em Euros')\n",
        "plt.title('Velocidade máx. X Preço em Euro')"
      ],
      "metadata": {
        "id": "kKodyM0wSzLG"
      },
      "execution_count": null,
      "outputs": []
    },
    {
      "cell_type": "code",
      "source": [
        "sns.histplot(dt3['BodyStyle'],kde=True,bins=6,color='blue').set(title=\"Formato do Carro\")"
      ],
      "metadata": {
        "id": "d2zG2YBQS05G"
      },
      "execution_count": null,
      "outputs": []
    },
    {
      "cell_type": "code",
      "source": [
        "plt.scatter(dt3['Range_Km'], dt3['PriceEuro'])\n",
        "plt.xlabel('Autonomia de distância')\n",
        "plt.ylabel('Preço em Euros')"
      ],
      "metadata": {
        "id": "UxSUH0YUS2AE"
      },
      "execution_count": null,
      "outputs": []
    },
    {
      "cell_type": "code",
      "source": [
        "sns.histplot(dt3['PowerTrain'],kde=True,bins=6,color='blue').set(title=\"Tração\")"
      ],
      "metadata": {
        "id": "ng_r-_8RS2_h"
      },
      "execution_count": null,
      "outputs": []
    },
    {
      "cell_type": "code",
      "source": [
        "dt3.dtypes"
      ],
      "metadata": {
        "id": "EXn3gwfNS4Ua"
      },
      "execution_count": null,
      "outputs": []
    },
    {
      "cell_type": "code",
      "source": [
        "sns.kdeplot(dt3.loc[dt3['BodyStyle']== 'Sedan'].PriceEuro).set(title='Sedan')"
      ],
      "metadata": {
        "id": "Y1-xauUmS5et"
      },
      "execution_count": null,
      "outputs": []
    },
    {
      "cell_type": "code",
      "source": [
        "sns.histplot(dt3.loc[dt3['BodyStyle']== 'Sedan'].PriceEuro,kde=True).set(title='Eletric Sedan')"
      ],
      "metadata": {
        "id": "3DrT2xHdS6mv"
      },
      "execution_count": null,
      "outputs": []
    },
    {
      "cell_type": "code",
      "source": [
        "sns.histplot(dt3.loc[dt3['BodyStyle']== 'Hatchback'].PriceEuro, kde=True).set(title='Eletric Hatch')"
      ],
      "metadata": {
        "id": "vrdaoVQ9S7yH"
      },
      "execution_count": null,
      "outputs": []
    },
    {
      "cell_type": "code",
      "source": [
        "sns.histplot(dt3.loc[dt3['BodyStyle']== 'SUV'].PriceEuro, kde=True).set(title='Eletric SUV')"
      ],
      "metadata": {
        "id": "SJ_QOEBUS9FH"
      },
      "execution_count": null,
      "outputs": []
    },
    {
      "cell_type": "code",
      "source": [
        "sns.displot(dt3, x = 'Seats', shrink = .8)"
      ],
      "metadata": {
        "id": "hYIvWatmS-XV"
      },
      "execution_count": null,
      "outputs": []
    },
    {
      "cell_type": "code",
      "source": [
        "sns.displot(dt3, x = 'AccelSec', shrink = .8)"
      ],
      "metadata": {
        "id": "Wg_5joljS_en"
      },
      "execution_count": null,
      "outputs": []
    },
    {
      "cell_type": "code",
      "source": [
        "pallette = sns.color_palette('rocket',as_cmap=True,)\n",
        "sns.displot(dt3, x = 'AccelSec', hue = 'Seats', palette = pallette)"
      ],
      "metadata": {
        "id": "jRWoFqVqTAye"
      },
      "execution_count": null,
      "outputs": []
    },
    {
      "cell_type": "code",
      "source": [
        "correlacao = ['AccelSec','TopSpeed_KmH','Range_Km','Efficiency_WhKm','Seats','PriceEuro']\n",
        "corr = dt3[correlacao].corr()\n",
        "fig = plt.figure(figsize=(12,9))\n",
        "mask = np.triu(np.ones_like(corr,dtype=bool))\n",
        "sns.heatmap(corr,vmax=.8,mask=mask,square=True,annot=True)\n",
        "plt.show()"
      ],
      "metadata": {
        "id": "lJAUN9pNTCAs"
      },
      "execution_count": null,
      "outputs": []
    },
    {
      "cell_type": "markdown",
      "source": [
        "One-hot enconding, tem como objetivo transformar variáveis categóricas em números (0 ou 1), para que seja feita uma análise melhor do dataset e possa prever possíveis resultados."
      ],
      "metadata": {
        "id": "tfVolcijTDbB"
      }
    },
    {
      "cell_type": "code",
      "source": [
        "\n",
        "dt3_encoded = pd.get_dummies(dt3['Brand'])\n",
        "\n",
        "dt3_encoded"
      ],
      "metadata": {
        "id": "-4BrbhitTEVd"
      },
      "execution_count": null,
      "outputs": []
    },
    {
      "cell_type": "code",
      "source": [
        "from sklearn.preprocessing import OneHotEncoder\n",
        "from sklearn.decomposition import PCA\n",
        "from sklearn.cluster import KMeans"
      ],
      "metadata": {
        "id": "BwF44M5DTFfC"
      },
      "execution_count": null,
      "outputs": []
    },
    {
      "cell_type": "code",
      "source": [
        "dt3.dtypes"
      ],
      "metadata": {
        "id": "o4socrqyTGLb"
      },
      "execution_count": null,
      "outputs": []
    },
    {
      "cell_type": "markdown",
      "source": [
        "Aqui faremos a redução de dimensionalidade para que os valores a serem analisados sejam os mais precisos e não forneçam resultados errados para a análise. Vamos retirar as colunas menos relevantes para a nossa análise."
      ],
      "metadata": {
        "id": "I52CS7wgTHeZ"
      }
    },
    {
      "cell_type": "code",
      "source": [
        "colunas_reduzidas = ['Model','FastCharge_KmH','RapidCharge','PlugType',]\n",
        "data_reduzido = dt3.drop(colunas_reduzidas,axis=1)\n",
        "data_reduzido"
      ],
      "metadata": {
        "id": "z43mkSK-TIv5"
      },
      "execution_count": null,
      "outputs": []
    },
    {
      "cell_type": "markdown",
      "source": [
        "Aqui faremos o one-hot enconding para transformar as variáveis categóricas em colunas e assim fazer a análise necessária."
      ],
      "metadata": {
        "id": "rP_t6xjRTJyS"
      }
    },
    {
      "cell_type": "code",
      "source": [
        "colunas_categoricas = ['Brand','PowerTrain','Segment','BodyStyle']\n",
        "encoder = OneHotEncoder(sparse=False)\n",
        "encoded_data = pd.DataFrame(encoder.fit_transform(dt3[colunas_categoricas]))\n",
        "dt3_encoded = pd.concat([data_reduzido,encoded_data],axis=1)\n",
        "dt3_encoded.drop(colunas_categoricas,axis=1, inplace=True)\n",
        "dt3_encoded"
      ],
      "metadata": {
        "id": "Qu0lK74rTLMW"
      },
      "execution_count": null,
      "outputs": []
    },
    {
      "cell_type": "markdown",
      "source": [
        "Agora vamos fazer a redução de dimensionalidade com PCA, o objetivo é encontrar a maior variabilidade dos dados e classificar eles como componentes principais. Isso vai tranformar um conjunto de variáveis correlacionadas em conjuntos de novas variáveis não correlacionadas chamadas de componentes principais. Esses componentes são classificados de ordem decrescente de modo que as primeiras componentes tenham a maior variabilidade nos dados."
      ],
      "metadata": {
        "id": "LusHsUEBTMk8"
      }
    },
    {
      "cell_type": "code",
      "source": [
        "dt3_encoded.columns = dt3_encoded.columns.astype(str)\n",
        "pca = PCA(n_components=5)\n",
        "X = dt3_encoded.values\n",
        "y = dt3_encoded['Range_Km']\n",
        "X_pca = pca.fit_transform(X)\n",
        "#reduced_dt3 = pca.fit_transform(dt3_encoded)"
      ],
      "metadata": {
        "id": "07OWqHAdTNhM"
      },
      "execution_count": null,
      "outputs": []
    },
    {
      "cell_type": "markdown",
      "source": [
        "Aqui fazeremos o clustering utilizando o kmeans. Clustering é o agrupamento de características do objeto que tem semelhanças entre si. Sua função é reconhecer padrões."
      ],
      "metadata": {
        "id": "ZoHz1NmiTOta"
      }
    },
    {
      "cell_type": "code",
      "source": [
        "kmeans = KMeans(n_clusters=3)\n",
        "clusters =kmeans.fit_predict(X_pca)\n",
        "\n",
        "plt.scatter(X_pca[:,0],X_pca[:,2], c=clusters)\n",
        "plt.show()"
      ],
      "metadata": {
        "id": "GVHHdBZRTPtj"
      },
      "execution_count": null,
      "outputs": []
    },
    {
      "cell_type": "code",
      "source": [
        "from sklearn.model_selection import train_test_split\n",
        "from sklearn.linear_model import LinearRegression\n",
        "from sklearn.metrics import mean_squared_error"
      ],
      "metadata": {
        "id": "vyxGYasGTQyz"
      },
      "execution_count": null,
      "outputs": []
    },
    {
      "cell_type": "code",
      "source": [
        "X_train, X_val, y_train, y_val = train_test_split(X, y, test_size=0.2,random_state=42)"
      ],
      "metadata": {
        "id": "wVPI7B5GTR7p"
      },
      "execution_count": null,
      "outputs": []
    },
    {
      "cell_type": "code",
      "source": [
        "print(X.shape)\n",
        "print(y.shape)"
      ],
      "metadata": {
        "id": "RMmyaaUNTTB1"
      },
      "execution_count": null,
      "outputs": []
    },
    {
      "cell_type": "code",
      "source": [
        "model =LinearRegression()"
      ],
      "metadata": {
        "id": "YWWBt1b6TUyU"
      },
      "execution_count": null,
      "outputs": []
    },
    {
      "cell_type": "code",
      "source": [
        "model.fit(X_train,y_train)"
      ],
      "metadata": {
        "id": "GVoIezErTVkz"
      },
      "execution_count": null,
      "outputs": []
    },
    {
      "cell_type": "code",
      "source": [
        "y_pred = model.predict(X_val)"
      ],
      "metadata": {
        "id": "cXhGmKPgTWYm"
      },
      "execution_count": null,
      "outputs": []
    },
    {
      "cell_type": "code",
      "source": [
        "rmse = mean_squared_error(y_val,y_pred,squared=False)\n",
        "print('RMSE',rmse)"
      ],
      "metadata": {
        "id": "RhPLisMPTYB-"
      },
      "execution_count": null,
      "outputs": []
    },
    {
      "cell_type": "code",
      "source": [
        "plt.scatter(y_val,y_pred)\n",
        "plt.plot([y_val.min(),y_val.max()],[y_val.min(),y_val.max()],color='red',linestyle='--')\n",
        "plt.xlabel('Valor Real')\n",
        "plt.ylabel('Valor Previsto')\n",
        "plt.title('Gráfico de Dispersão :Valor real vs. Valor Previsto')\n",
        "plt.show()"
      ],
      "metadata": {
        "id": "p8v0eVKYTZER"
      },
      "execution_count": null,
      "outputs": []
    },
    {
      "cell_type": "markdown",
      "source": [
        "Acredito que a precisão não era para estar tão alta."
      ],
      "metadata": {
        "id": "CiEi2-k0Tamg"
      }
    }
  ]
}